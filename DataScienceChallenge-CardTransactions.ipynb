{
 "cells": [
  {
   "cell_type": "markdown",
   "metadata": {},
   "source": [
    "### Import modules"
   ]
  },
  {
   "cell_type": "code",
   "execution_count": 1,
   "metadata": {},
   "outputs": [],
   "source": [
    "import pandas as pd\n",
    "import json\n",
    "import seaborn as sns\n",
    "import datetime\n",
    "import time\n",
    "from matplotlib import pyplot as plt"
   ]
  },
  {
   "cell_type": "markdown",
   "metadata": {},
   "source": [
    "### Loading dataset into dataframe"
   ]
  },
  {
   "cell_type": "code",
   "execution_count": 2,
   "metadata": {},
   "outputs": [],
   "source": [
    "list_transactions = []\n",
    "with open('transactions.txt') as fp:\n",
    "    for line in fp:\n",
    "        list_transactions.append(json.loads(line))\n",
    "\n",
    "df = pd.DataFrame(list_transactions)"
   ]
  },
  {
   "cell_type": "markdown",
   "metadata": {},
   "source": [
    "### Structure of the data\n",
    "\n",
    "There are **786,363** records and **29** fields in the dataset."
   ]
  },
  {
   "cell_type": "code",
   "execution_count": 3,
   "metadata": {},
   "outputs": [
    {
     "name": "stdout",
     "output_type": "stream",
     "text": [
      "(786363, 29)\n",
      "Index(['accountNumber', 'accountOpenDate', 'acqCountry', 'availableMoney',\n",
      "       'cardCVV', 'cardLast4Digits', 'cardPresent', 'creditLimit',\n",
      "       'currentBalance', 'currentExpDate', 'customerId',\n",
      "       'dateOfLastAddressChange', 'echoBuffer', 'enteredCVV',\n",
      "       'expirationDateKeyInMatch', 'isFraud', 'merchantCategoryCode',\n",
      "       'merchantCity', 'merchantCountryCode', 'merchantName', 'merchantState',\n",
      "       'merchantZip', 'posConditionCode', 'posEntryMode', 'posOnPremises',\n",
      "       'recurringAuthInd', 'transactionAmount', 'transactionDateTime',\n",
      "       'transactionType'],\n",
      "      dtype='object')\n"
     ]
    }
   ],
   "source": [
    "#number of records and fields in the dataframe\n",
    "print(df.shape)\n",
    "print(df.columns)"
   ]
  },
  {
   "cell_type": "markdown",
   "metadata": {},
   "source": [
    "### Summary statistics\n",
    "Lets see a quick statistic summary of the data"
   ]
  },
  {
   "cell_type": "code",
   "execution_count": 4,
   "metadata": {},
   "outputs": [
    {
     "data": {
      "text/html": [
       "<div>\n",
       "<style scoped>\n",
       "    .dataframe tbody tr th:only-of-type {\n",
       "        vertical-align: middle;\n",
       "    }\n",
       "\n",
       "    .dataframe tbody tr th {\n",
       "        vertical-align: top;\n",
       "    }\n",
       "\n",
       "    .dataframe thead th {\n",
       "        text-align: right;\n",
       "    }\n",
       "</style>\n",
       "<table border=\"1\" class=\"dataframe\">\n",
       "  <thead>\n",
       "    <tr style=\"text-align: right;\">\n",
       "      <th></th>\n",
       "      <th>availableMoney</th>\n",
       "      <th>creditLimit</th>\n",
       "      <th>currentBalance</th>\n",
       "      <th>transactionAmount</th>\n",
       "    </tr>\n",
       "  </thead>\n",
       "  <tbody>\n",
       "    <tr>\n",
       "      <th>count</th>\n",
       "      <td>786363.000000</td>\n",
       "      <td>786363.000000</td>\n",
       "      <td>786363.000000</td>\n",
       "      <td>786363.000000</td>\n",
       "    </tr>\n",
       "    <tr>\n",
       "      <th>mean</th>\n",
       "      <td>6250.725369</td>\n",
       "      <td>10759.464459</td>\n",
       "      <td>4508.739089</td>\n",
       "      <td>136.985791</td>\n",
       "    </tr>\n",
       "    <tr>\n",
       "      <th>std</th>\n",
       "      <td>8880.783989</td>\n",
       "      <td>11636.174890</td>\n",
       "      <td>6457.442068</td>\n",
       "      <td>147.725569</td>\n",
       "    </tr>\n",
       "    <tr>\n",
       "      <th>min</th>\n",
       "      <td>-1005.630000</td>\n",
       "      <td>250.000000</td>\n",
       "      <td>0.000000</td>\n",
       "      <td>0.000000</td>\n",
       "    </tr>\n",
       "    <tr>\n",
       "      <th>25%</th>\n",
       "      <td>1077.420000</td>\n",
       "      <td>5000.000000</td>\n",
       "      <td>689.910000</td>\n",
       "      <td>33.650000</td>\n",
       "    </tr>\n",
       "    <tr>\n",
       "      <th>50%</th>\n",
       "      <td>3184.860000</td>\n",
       "      <td>7500.000000</td>\n",
       "      <td>2451.760000</td>\n",
       "      <td>87.900000</td>\n",
       "    </tr>\n",
       "    <tr>\n",
       "      <th>75%</th>\n",
       "      <td>7500.000000</td>\n",
       "      <td>15000.000000</td>\n",
       "      <td>5291.095000</td>\n",
       "      <td>191.480000</td>\n",
       "    </tr>\n",
       "    <tr>\n",
       "      <th>max</th>\n",
       "      <td>50000.000000</td>\n",
       "      <td>50000.000000</td>\n",
       "      <td>47498.810000</td>\n",
       "      <td>2011.540000</td>\n",
       "    </tr>\n",
       "  </tbody>\n",
       "</table>\n",
       "</div>"
      ],
      "text/plain": [
       "       availableMoney    creditLimit  currentBalance  transactionAmount\n",
       "count   786363.000000  786363.000000   786363.000000      786363.000000\n",
       "mean      6250.725369   10759.464459     4508.739089         136.985791\n",
       "std       8880.783989   11636.174890     6457.442068         147.725569\n",
       "min      -1005.630000     250.000000        0.000000           0.000000\n",
       "25%       1077.420000    5000.000000      689.910000          33.650000\n",
       "50%       3184.860000    7500.000000     2451.760000          87.900000\n",
       "75%       7500.000000   15000.000000     5291.095000         191.480000\n",
       "max      50000.000000   50000.000000    47498.810000        2011.540000"
      ]
     },
     "execution_count": 4,
     "metadata": {},
     "output_type": "execute_result"
    }
   ],
   "source": [
    "df.describe()"
   ]
  },
  {
   "cell_type": "markdown",
   "metadata": {},
   "source": [
    "Now list the unique values for each field in the dataframe as **(fieldname, number of unique values, unique values)**"
   ]
  },
  {
   "cell_type": "code",
   "execution_count": 5,
   "metadata": {},
   "outputs": [
    {
     "name": "stdout",
     "output_type": "stream",
     "text": [
      "('accountNumber', 5000, array(['737265056', '830329091', '574788567', ..., '899818521',\n",
      "       '638498773', '732852505'], dtype=object))\n",
      "\n",
      "('accountOpenDate', 1820, array(['2015-03-14', '2015-08-06', '2015-10-13', ..., '2009-08-17',\n",
      "       '2008-04-15', '2012-08-23'], dtype=object))\n",
      "\n",
      "('acqCountry', 5, array(['US', '', 'CAN', 'MEX', 'PR'], dtype=object))\n",
      "\n",
      "('availableMoney', 521916, array([ 5000.  ,  4990.63,  4959.25, ..., 48766.15, 48716.72, 48666.83]))\n",
      "\n",
      "('cardLast4Digits', 5246, array(['1803', '767', '3143', ..., '4635', '3783', '3388'], dtype=object))\n",
      "\n",
      "('cardPresent', 2, array([False,  True]))\n",
      "\n",
      "('creditLimit', 10, array([ 5000.,  2500., 50000., 15000., 10000.,   250.,   500.,  1000.,\n",
      "        7500., 20000.]))\n",
      "\n",
      "('currentBalance', 487318, array([   0.  ,    9.37,   40.75, ..., 1095.04, 1214.96, 1233.85]))\n",
      "\n",
      "('customerId', 5000, array(['737265056', '830329091', '574788567', ..., '899818521',\n",
      "       '638498773', '732852505'], dtype=object))\n",
      "\n",
      "('dateOfLastAddressChange', 2184, array(['2015-03-14', '2015-08-06', '2015-10-13', ..., '2009-08-17',\n",
      "       '2008-04-15', '2012-08-23'], dtype=object))\n",
      "\n",
      "('echoBuffer', 1, array([''], dtype=object))\n",
      "\n",
      "('expirationDateKeyInMatch', 2, array([False,  True]))\n",
      "\n",
      "('isFraud', 2, array([False,  True]))\n",
      "\n",
      "('merchantCategoryCode', 19, array(['rideshare', 'entertainment', 'mobileapps', 'fastfood',\n",
      "       'food_delivery', 'auto', 'online_retail', 'gym', 'health',\n",
      "       'personal care', 'food', 'fuel', 'online_subscriptions',\n",
      "       'online_gifts', 'hotels', 'airline', 'furniture', 'subscriptions',\n",
      "       'cable/phone'], dtype=object))\n",
      "\n",
      "('merchantCity', 1, array([''], dtype=object))\n",
      "\n",
      "('merchantCountryCode', 5, array(['US', 'CAN', '', 'PR', 'MEX'], dtype=object))\n",
      "\n",
      "('merchantName', 2490, array(['Uber', 'AMC #191138', 'Play Store', ..., 'ATT #141119',\n",
      "       'EZ Wireless #200746', 'Runners #747070'], dtype=object))\n",
      "\n",
      "('merchantState', 1, array([''], dtype=object))\n",
      "\n",
      "('merchantZip', 1, array([''], dtype=object))\n",
      "\n",
      "('posConditionCode', 4, array(['01', '08', '99', ''], dtype=object))\n",
      "\n",
      "('posEntryMode', 6, array(['02', '09', '05', '80', '90', ''], dtype=object))\n",
      "\n",
      "('posOnPremises', 1, array([''], dtype=object))\n",
      "\n",
      "('recurringAuthInd', 1, array([''], dtype=object))\n",
      "\n",
      "('transactionAmount', 66038, array([ 98.55,  74.51,   7.47, ..., 482.13, 451.71, 624.07]))\n",
      "\n",
      "('transactionDateTime', 776637, array(['2016-08-13T14:27:32', '2016-10-11T05:05:54',\n",
      "       '2016-11-08T09:18:39', ..., '2016-12-27T15:46:24',\n",
      "       '2016-12-29T00:30:55', '2016-12-30T20:10:29'], dtype=object))\n",
      "\n",
      "('transactionType', 4, array(['PURCHASE', 'ADDRESS_VERIFICATION', 'REVERSAL', ''], dtype=object))\n",
      "\n"
     ]
    }
   ],
   "source": [
    "for col in df:\n",
    "    if col not in ['cardCVV', 'currentExpDate', 'enteredCVV']:\n",
    "        print((col, df[col].nunique(), df[col].unique()))\n",
    "        print()"
   ]
  },
  {
   "cell_type": "markdown",
   "metadata": {},
   "source": [
    "The fields **echoBuffer, merchantCity, merchantState, merchantZip, posOnPremises, recurringAuthInd** contain **null value** only. We will drop these fields from the dataframe."
   ]
  },
  {
   "cell_type": "code",
   "execution_count": 6,
   "metadata": {},
   "outputs": [],
   "source": [
    "df.drop(columns=['echoBuffer', 'merchantCity', 'merchantState', 'merchantZip', 'posOnPremises', 'recurringAuthInd' ], axis=1, inplace=True)"
   ]
  },
  {
   "cell_type": "markdown",
   "metadata": {},
   "source": [
    "Lets now count **null values** for each of remaining fields.\n",
    "\n",
    "In **acqCountry, merchantCountryCode, posConditionCode , posEntryMode, transactionType** fields there are 4562, 724, 409, 4054, 698 null values respectively."
   ]
  },
  {
   "cell_type": "code",
   "execution_count": 7,
   "metadata": {},
   "outputs": [
    {
     "name": "stdout",
     "output_type": "stream",
     "text": [
      "acqCountry 4562\n",
      "merchantCountryCode 724\n",
      "posConditionCode 409\n",
      "posEntryMode 4054\n",
      "transactionType 698\n"
     ]
    }
   ],
   "source": [
    "for col in df:\n",
    "    if df[col].dtype == 'object' and df[df[col] == ''].shape[0] > 0: #fields where data type is string\n",
    "        print(col, df[df[col] == ''].shape[0])\n",
    "    elif df[col].isna().sum() > 0:\n",
    "        print(col, df[col].isna().sum())"
   ]
  },
  {
   "cell_type": "markdown",
   "metadata": {},
   "source": [
    "### Histogram of the Processed Amounts of Each Transaction\n",
    "\n",
    "The distribution of processed amounts of transactions is **right skewed**, that means it is not symmetric around the mean. The mean is greater than the median. Also notice that the tail of the distribution on the right hand (positive) side is longer than on the left hand side.\n",
    "\n",
    "My hypothesis is customers use credit card mostly for small transactions."
   ]
  },
  {
   "cell_type": "code",
   "execution_count": 9,
   "metadata": {},
   "outputs": [
    {
     "data": {
      "image/png": "[encoded data removed]",
      "text/plain": [
       "<Figure size 432x288 with 1 Axes>"
      ]
     },
     "metadata": {
      "needs_background": "light"
     },
     "output_type": "display_data"
    }
   ],
   "source": [
    "sns.distplot(df['transactionAmount'], hist = True, kde = False)\n",
    "plt.show()"
   ]
  },
  {
   "cell_type": "markdown",
   "metadata": {},
   "source": [
    "### Duplicate Transactions\n",
    "\n",
    "First find the total count of duplicates that resulted from **reversed transactions**."
   ]
  },
  {
   "cell_type": "code",
   "execution_count": 79,
   "metadata": {},
   "outputs": [
    {
     "name": "stdout",
     "output_type": "stream",
     "text": [
      "Total number of reversal duplicates:  17759\n",
      "Total dollar amount of reversal duplicates: $ 2666519.26999999\n"
     ]
    }
   ],
   "source": [
    "dfUniqueTransaction = df[['accountNumber', 'merchantName', 'transactionType', 'transactionAmount', 'transactionDateTime']]\n",
    "dfPurchase = dfUniqueTransaction[df['transactionType'] == 'PURCHASE']\n",
    "dfReversal = dfUniqueTransaction[df['transactionType'] == 'REVERSAL']\n",
    "\n",
    "totalReversedDuplicates = 0\n",
    "totalReversedDuplicatesAmount = 0\n",
    "\n",
    "dfPurchaseSameAccount = None\n",
    "prevAccountNumber = None\n",
    "\n",
    "for _, row in dfReversal.iterrows():\n",
    "    if row['accountNumber'] != prevAccountNumber:\n",
    "        dfPurchaseSameAccount = dfPurchase[dfPurchase['accountNumber'] == row['accountNumber']]\n",
    "        prevAccountNumber = row['accountNumber']\n",
    "    if ((dfPurchaseSameAccount['transactionAmount'] == row['transactionAmount']) & (dfPurchaseSameAccount['merchantName'] == row['merchantName']) & (row['transactionDateTime'] > dfPurchaseSameAccount['transactionDateTime'])).any():\n",
    "        totalReversedDuplicates += 1\n",
    "        totalReversedDuplicatesAmount += row['transactionAmount']\n",
    "\n",
    "print('Total number of reversal duplicates: ', totalReversedDuplicates)\n",
    "print('Total dollar amount of reversal duplicates: $', totalReversedDuplicatesAmount)"
   ]
  },
  {
   "cell_type": "markdown",
   "metadata": {},
   "source": [
    "Now we will find total count of duplicates that resulted from **multiple swipes**."
   ]
  },
  {
   "cell_type": "code",
   "execution_count": 82,
   "metadata": {},
   "outputs": [
    {
     "name": "stdout",
     "output_type": "stream",
     "text": [
      "Total number of multiple swipes duplicates:  7463\n",
      "Total dollar amount of multiple swipes duplicates: $ 1103262.1899999934\n"
     ]
    }
   ],
   "source": [
    "dfUniqueTransaction = df[['accountNumber', 'merchantName', 'transactionType', 'transactionAmount', 'transactionDateTime']]\n",
    "dfPurchase = dfUniqueTransaction[dfUniqueTransaction['transactionType'] == 'PURCHASE']\n",
    "dfPurchase =dfPurchase.reset_index(drop=True)\n",
    "\n",
    "totalMultiSwipeDuplicates = 0\n",
    "totalMultiSwipeDuplicatesAmount = 0\n",
    "\n",
    "lastSeenDuplicateTransaction = -1\n",
    "\n",
    "for index1, row in dfPurchase.iterrows():\n",
    "        \n",
    "    if index1 < lastSeenDuplicateTransaction:\n",
    "        continue\n",
    "        \n",
    "    for index2 in range(index1+1, dfPurchase.shape[0]):\n",
    "        if row['accountNumber'] != dfPurchase.iloc[index2]['accountNumber']:\n",
    "            break\n",
    "        t1 = pd.to_datetime(row['transactionDateTime'])\n",
    "        t2 = pd.to_datetime(dfPurchase.iloc[index2]['transactionDateTime'])\n",
    "        \n",
    "        \n",
    "        if pd.Timedelta(t2 - t1).seconds > 300:\n",
    "            break\n",
    "                       \n",
    "        if (row['merchantName'] == dfPurchase.iloc[index2]['merchantName']) and (row['transactionAmount'] == dfPurchase.iloc[index2]['transactionAmount']):\n",
    "            totalMultiSwipeDuplicates += 1\n",
    "            totalMultiSwipeDuplicatesAmount += row['transactionAmount']\n",
    "            lastSeenDuplicateTransaction = index2    \n",
    "\n",
    "print('Total number of multiple swipes duplicates: ', totalMultiSwipeDuplicates)\n",
    "print('Total dollar amount of multiple swipes duplicates: $', totalMultiSwipeDuplicatesAmount)"
   ]
  },
  {
   "cell_type": "markdown",
   "metadata": {},
   "source": [
    "Some interesting observation about the duplicate transactions:\n",
    "\n",
    "* Five fields in the dataset were particularly important to identify both types of duplicate transactions\n",
    "    * accountNumber\n",
    "    * merchantName\n",
    "    * transactionType\n",
    "    * transactionAmount\n",
    "    * transactionDateTime"
   ]
  },
  {
   "cell_type": "code",
   "execution_count": null,
   "metadata": {},
   "outputs": [],
   "source": []
  }
 ],
 "metadata": {
  "kernelspec": {
   "display_name": "Python 3",
   "language": "python",
   "name": "python3"
  },
  "language_info": {
   "codemirror_mode": {
    "name": "ipython",
    "version": 3
   },
   "file_extension": ".py",
   "mimetype": "text/x-python",
   "name": "python",
   "nbconvert_exporter": "python",
   "pygments_lexer": "ipython3",
   "version": "3.7.1"
  }
 },
 "nbformat": 4,
 "nbformat_minor": 2
}
