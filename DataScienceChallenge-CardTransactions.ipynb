{
 "cells": [
  {
   "cell_type": "markdown",
   "metadata": {},
   "source": [
    "### Import modules"
   ]
  },
  {
   "cell_type": "code",
   "execution_count": 108,
   "metadata": {
    "scrolled": true
   },
   "outputs": [],
   "source": [
    "import pandas as pd\n",
    "import json\n",
    "\n",
    "import datetime\n",
    "import time\n",
    "import numpy as np\n",
    "\n",
    "from imblearn import under_sampling, over_sampling\n",
    "from imblearn.pipeline import Pipeline\n",
    "from imblearn.over_sampling import SMOTE\n",
    "from imblearn.under_sampling import ClusterCentroids, TomekLinks, OneSidedSelection, RandomUnderSampler\n",
    "\n",
    "\n",
    "from sklearn.decomposition import PCA\n",
    "from sklearn.preprocessing import StandardScaler\n",
    "from sklearn.model_selection import StratifiedKFold\n",
    "from sklearn.model_selection import train_test_split\n",
    "from sklearn.linear_model import LogisticRegression\n",
    "from sklearn.metrics import accuracy_score, classification_report, confusion_matrix, roc_auc_score, plot_roc_curve, roc_curve, auc\n",
    "\n",
    "import seaborn as sns\n",
    "import scikitplot as skplt\n",
    "from matplotlib import pyplot as plt"
   ]
  },
  {
   "cell_type": "markdown",
   "metadata": {},
   "source": [
    "### Loading dataset into dataframe"
   ]
  },
  {
   "cell_type": "code",
   "execution_count": 109,
   "metadata": {},
   "outputs": [],
   "source": [
    "list_transactions = []\n",
    "with open('transactions.txt') as fp:\n",
    "    for line in fp:\n",
    "        list_transactions.append(json.loads(line))\n",
    "\n",
    "df = pd.DataFrame(list_transactions)"
   ]
  },
  {
   "cell_type": "markdown",
   "metadata": {},
   "source": [
    "### Structure of the data\n",
    "\n",
    "There are **786,363** records and **29** fields in the dataset."
   ]
  },
  {
   "cell_type": "code",
   "execution_count": 3,
   "metadata": {},
   "outputs": [
    {
     "name": "stdout",
     "output_type": "stream",
     "text": [
      "(786363, 29)\n",
      "Index(['accountNumber', 'accountOpenDate', 'acqCountry', 'availableMoney',\n",
      "       'cardCVV', 'cardLast4Digits', 'cardPresent', 'creditLimit',\n",
      "       'currentBalance', 'currentExpDate', 'customerId',\n",
      "       'dateOfLastAddressChange', 'echoBuffer', 'enteredCVV',\n",
      "       'expirationDateKeyInMatch', 'isFraud', 'merchantCategoryCode',\n",
      "       'merchantCity', 'merchantCountryCode', 'merchantName', 'merchantState',\n",
      "       'merchantZip', 'posConditionCode', 'posEntryMode', 'posOnPremises',\n",
      "       'recurringAuthInd', 'transactionAmount', 'transactionDateTime',\n",
      "       'transactionType'],\n",
      "      dtype='object')\n"
     ]
    }
   ],
   "source": [
    "#number of records and fields in the dataframe\n",
    "print(df.shape)\n",
    "print(df.columns)"
   ]
  },
  {
   "cell_type": "code",
   "execution_count": 26,
   "metadata": {},
   "outputs": [
    {
     "data": {
      "text/html": [
       "<div>\n",
       "<style scoped>\n",
       "    .dataframe tbody tr th:only-of-type {\n",
       "        vertical-align: middle;\n",
       "    }\n",
       "\n",
       "    .dataframe tbody tr th {\n",
       "        vertical-align: top;\n",
       "    }\n",
       "\n",
       "    .dataframe thead th {\n",
       "        text-align: right;\n",
       "    }\n",
       "</style>\n",
       "<table border=\"1\" class=\"dataframe\">\n",
       "  <thead>\n",
       "    <tr style=\"text-align: right;\">\n",
       "      <th></th>\n",
       "      <th>availableMoney</th>\n",
       "      <th>cardPresent</th>\n",
       "      <th>currentBalance</th>\n",
       "      <th>expirationDateKeyInMatch</th>\n",
       "      <th>transactionAmount</th>\n",
       "      <th>CVVmatched</th>\n",
       "      <th>accountAge</th>\n",
       "      <th>addressAge</th>\n",
       "    </tr>\n",
       "    <tr>\n",
       "      <th>isFraud</th>\n",
       "      <th></th>\n",
       "      <th></th>\n",
       "      <th></th>\n",
       "      <th></th>\n",
       "      <th></th>\n",
       "      <th></th>\n",
       "      <th></th>\n",
       "      <th></th>\n",
       "    </tr>\n",
       "  </thead>\n",
       "  <tbody>\n",
       "    <tr>\n",
       "      <th>False</th>\n",
       "      <td>6252.455386</td>\n",
       "      <td>0.451469</td>\n",
       "      <td>4502.428675</td>\n",
       "      <td>0.001331</td>\n",
       "      <td>135.570249</td>\n",
       "      <td>0.991198</td>\n",
       "      <td>7.642549e+07</td>\n",
       "      <td>3.881943e+07</td>\n",
       "    </tr>\n",
       "    <tr>\n",
       "      <th>True</th>\n",
       "      <td>6142.894186</td>\n",
       "      <td>0.278248</td>\n",
       "      <td>4902.064338</td>\n",
       "      <td>0.001047</td>\n",
       "      <td>225.215905</td>\n",
       "      <td>0.983651</td>\n",
       "      <td>7.357378e+07</td>\n",
       "      <td>3.609041e+07</td>\n",
       "    </tr>\n",
       "  </tbody>\n",
       "</table>\n",
       "</div>"
      ],
      "text/plain": [
       "         availableMoney  cardPresent  currentBalance  \\\n",
       "isFraud                                                \n",
       "False       6252.455386     0.451469     4502.428675   \n",
       "True        6142.894186     0.278248     4902.064338   \n",
       "\n",
       "         expirationDateKeyInMatch  transactionAmount  CVVmatched  \\\n",
       "isFraud                                                            \n",
       "False                    0.001331         135.570249    0.991198   \n",
       "True                     0.001047         225.215905    0.983651   \n",
       "\n",
       "           accountAge    addressAge  \n",
       "isFraud                              \n",
       "False    7.642549e+07  3.881943e+07  \n",
       "True     7.357378e+07  3.609041e+07  "
      ]
     },
     "execution_count": 26,
     "metadata": {},
     "output_type": "execute_result"
    }
   ],
   "source": [
    "df.groupby('isFraud').mean()"
   ]
  },
  {
   "cell_type": "markdown",
   "metadata": {},
   "source": [
    "### Summary statistics\n",
    "Lets see a quick statistic summary of the data"
   ]
  },
  {
   "cell_type": "code",
   "execution_count": 4,
   "metadata": {},
   "outputs": [
    {
     "data": {
      "text/html": [
       "<div>\n",
       "<style scoped>\n",
       "    .dataframe tbody tr th:only-of-type {\n",
       "        vertical-align: middle;\n",
       "    }\n",
       "\n",
       "    .dataframe tbody tr th {\n",
       "        vertical-align: top;\n",
       "    }\n",
       "\n",
       "    .dataframe thead th {\n",
       "        text-align: right;\n",
       "    }\n",
       "</style>\n",
       "<table border=\"1\" class=\"dataframe\">\n",
       "  <thead>\n",
       "    <tr style=\"text-align: right;\">\n",
       "      <th></th>\n",
       "      <th>availableMoney</th>\n",
       "      <th>creditLimit</th>\n",
       "      <th>currentBalance</th>\n",
       "      <th>transactionAmount</th>\n",
       "    </tr>\n",
       "  </thead>\n",
       "  <tbody>\n",
       "    <tr>\n",
       "      <th>count</th>\n",
       "      <td>786363.000000</td>\n",
       "      <td>786363.000000</td>\n",
       "      <td>786363.000000</td>\n",
       "      <td>786363.000000</td>\n",
       "    </tr>\n",
       "    <tr>\n",
       "      <th>mean</th>\n",
       "      <td>6250.725369</td>\n",
       "      <td>10759.464459</td>\n",
       "      <td>4508.739089</td>\n",
       "      <td>136.985791</td>\n",
       "    </tr>\n",
       "    <tr>\n",
       "      <th>std</th>\n",
       "      <td>8880.783989</td>\n",
       "      <td>11636.174890</td>\n",
       "      <td>6457.442068</td>\n",
       "      <td>147.725569</td>\n",
       "    </tr>\n",
       "    <tr>\n",
       "      <th>min</th>\n",
       "      <td>-1005.630000</td>\n",
       "      <td>250.000000</td>\n",
       "      <td>0.000000</td>\n",
       "      <td>0.000000</td>\n",
       "    </tr>\n",
       "    <tr>\n",
       "      <th>25%</th>\n",
       "      <td>1077.420000</td>\n",
       "      <td>5000.000000</td>\n",
       "      <td>689.910000</td>\n",
       "      <td>33.650000</td>\n",
       "    </tr>\n",
       "    <tr>\n",
       "      <th>50%</th>\n",
       "      <td>3184.860000</td>\n",
       "      <td>7500.000000</td>\n",
       "      <td>2451.760000</td>\n",
       "      <td>87.900000</td>\n",
       "    </tr>\n",
       "    <tr>\n",
       "      <th>75%</th>\n",
       "      <td>7500.000000</td>\n",
       "      <td>15000.000000</td>\n",
       "      <td>5291.095000</td>\n",
       "      <td>191.480000</td>\n",
       "    </tr>\n",
       "    <tr>\n",
       "      <th>max</th>\n",
       "      <td>50000.000000</td>\n",
       "      <td>50000.000000</td>\n",
       "      <td>47498.810000</td>\n",
       "      <td>2011.540000</td>\n",
       "    </tr>\n",
       "  </tbody>\n",
       "</table>\n",
       "</div>"
      ],
      "text/plain": [
       "       availableMoney    creditLimit  currentBalance  transactionAmount\n",
       "count   786363.000000  786363.000000   786363.000000      786363.000000\n",
       "mean      6250.725369   10759.464459     4508.739089         136.985791\n",
       "std       8880.783989   11636.174890     6457.442068         147.725569\n",
       "min      -1005.630000     250.000000        0.000000           0.000000\n",
       "25%       1077.420000    5000.000000      689.910000          33.650000\n",
       "50%       3184.860000    7500.000000     2451.760000          87.900000\n",
       "75%       7500.000000   15000.000000     5291.095000         191.480000\n",
       "max      50000.000000   50000.000000    47498.810000        2011.540000"
      ]
     },
     "execution_count": 4,
     "metadata": {},
     "output_type": "execute_result"
    }
   ],
   "source": [
    "df.describe()"
   ]
  },
  {
   "cell_type": "markdown",
   "metadata": {},
   "source": [
    "Now list the unique values for each field in the dataframe as **(fieldname, number of unique values, unique values)**"
   ]
  },
  {
   "cell_type": "code",
   "execution_count": 9,
   "metadata": {},
   "outputs": [
    {
     "name": "stdout",
     "output_type": "stream",
     "text": [
      "('accountNumber', 5000, array(['737265056', '830329091', '574788567', ..., '899818521',\n",
      "       '638498773', '732852505'], dtype=object))\n",
      "\n",
      "('accountOpenDate', 1820, array(['2015-03-14', '2015-08-06', '2015-10-13', ..., '2009-08-17',\n",
      "       '2008-04-15', '2012-08-23'], dtype=object))\n",
      "\n",
      "('acqCountry', 5, array(['US', '', 'CAN', 'MEX', 'PR'], dtype=object))\n",
      "\n",
      "('availableMoney', 521916, array([ 5000.  ,  4990.63,  4959.25, ..., 48766.15, 48716.72, 48666.83]))\n",
      "\n",
      "('cardLast4Digits', 5246, array(['1803', '767', '3143', ..., '4635', '3783', '3388'], dtype=object))\n",
      "\n",
      "('cardPresent', 2, array([False,  True]))\n",
      "\n",
      "('creditLimit', 10, array([ 5000.,  2500., 50000., 15000., 10000.,   250.,   500.,  1000.,\n",
      "        7500., 20000.]))\n",
      "\n",
      "('currentBalance', 487318, array([   0.  ,    9.37,   40.75, ..., 1095.04, 1214.96, 1233.85]))\n",
      "\n",
      "('customerId', 5000, array(['737265056', '830329091', '574788567', ..., '899818521',\n",
      "       '638498773', '732852505'], dtype=object))\n",
      "\n",
      "('dateOfLastAddressChange', 2184, array(['2015-03-14', '2015-08-06', '2015-10-13', ..., '2009-08-17',\n",
      "       '2008-04-15', '2012-08-23'], dtype=object))\n",
      "\n",
      "('echoBuffer', 1, array([''], dtype=object))\n",
      "\n",
      "('expirationDateKeyInMatch', 2, array([False,  True]))\n",
      "\n",
      "('isFraud', 2, array([False,  True]))\n",
      "\n",
      "('merchantCategoryCode', 19, array(['rideshare', 'entertainment', 'mobileapps', 'fastfood',\n",
      "       'food_delivery', 'auto', 'online_retail', 'gym', 'health',\n",
      "       'personal care', 'food', 'fuel', 'online_subscriptions',\n",
      "       'online_gifts', 'hotels', 'airline', 'furniture', 'subscriptions',\n",
      "       'cable/phone'], dtype=object))\n",
      "\n",
      "('merchantCity', 1, array([''], dtype=object))\n",
      "\n",
      "('merchantCountryCode', 5, array(['US', 'CAN', '', 'PR', 'MEX'], dtype=object))\n",
      "\n",
      "('merchantName', 2490, array(['Uber', 'AMC #191138', 'Play Store', ..., 'ATT #141119',\n",
      "       'EZ Wireless #200746', 'Runners #747070'], dtype=object))\n",
      "\n",
      "('merchantState', 1, array([''], dtype=object))\n",
      "\n",
      "('merchantZip', 1, array([''], dtype=object))\n",
      "\n",
      "('posConditionCode', 4, array(['01', '08', '99', ''], dtype=object))\n",
      "\n",
      "('posEntryMode', 6, array(['02', '09', '05', '80', '90', ''], dtype=object))\n",
      "\n",
      "('posOnPremises', 1, array([''], dtype=object))\n",
      "\n",
      "('recurringAuthInd', 1, array([''], dtype=object))\n",
      "\n",
      "('transactionAmount', 66038, array([ 98.55,  74.51,   7.47, ..., 482.13, 451.71, 624.07]))\n",
      "\n",
      "('transactionDateTime', 776637, array(['2016-08-13T14:27:32', '2016-10-11T05:05:54',\n",
      "       '2016-11-08T09:18:39', ..., '2016-12-27T15:46:24',\n",
      "       '2016-12-29T00:30:55', '2016-12-30T20:10:29'], dtype=object))\n",
      "\n",
      "('transactionType', 4, array(['PURCHASE', 'ADDRESS_VERIFICATION', 'REVERSAL', ''], dtype=object))\n",
      "\n"
     ]
    }
   ],
   "source": [
    "for col in df:\n",
    "    if col not in ['cardCVV', 'currentExpDate', 'enteredCVV']:\n",
    "        print((col, df[col].nunique(), df[col].unique()))\n",
    "        print()"
   ]
  },
  {
   "cell_type": "markdown",
   "metadata": {},
   "source": [
    "Lets now count **null/empty values** for each of remaining fields."
   ]
  },
  {
   "cell_type": "code",
   "execution_count": 10,
   "metadata": {},
   "outputs": [
    {
     "name": "stdout",
     "output_type": "stream",
     "text": [
      "acqCountry 4562\n",
      "echoBuffer 786363\n",
      "merchantCity 786363\n",
      "merchantCountryCode 724\n",
      "merchantState 786363\n",
      "merchantZip 786363\n",
      "posConditionCode 409\n",
      "posEntryMode 4054\n",
      "posOnPremises 786363\n",
      "recurringAuthInd 786363\n",
      "transactionType 698\n"
     ]
    }
   ],
   "source": [
    "for col in df:\n",
    "    if df[col].dtype == 'object' and df[df[col] == ''].shape[0] > 0: #fields where data type is string\n",
    "        print(col, df[df[col] == ''].shape[0])\n",
    "    elif df[col].isna().sum() > 0:\n",
    "        print(col, df[col].isna().sum())"
   ]
  },
  {
   "cell_type": "markdown",
   "metadata": {},
   "source": [
    "### Histogram of the Processed Amounts of Each Transaction\n",
    "\n",
    "The distribution of processed amounts of transactions is **right skewed**, that means it is not symmetric around the mean. The mean is greater than the median. Also notice that the tail of the distribution on the right hand (positive) side is longer than on the left hand side.\n",
    "\n",
    "My hypothesis is customers use credit card mostly for small transactions."
   ]
  },
  {
   "cell_type": "code",
   "execution_count": 11,
   "metadata": {},
   "outputs": [
    {
     "data": {
      "image/png": "[encoded data removed]",
      "text/plain": [
       "<Figure size 432x288 with 1 Axes>"
      ]
     },
     "metadata": {
      "needs_background": "light"
     },
     "output_type": "display_data"
    }
   ],
   "source": [
    "sns.distplot(df['transactionAmount'], hist = True, kde = False)\n",
    "plt.show()"
   ]
  },
  {
   "cell_type": "markdown",
   "metadata": {},
   "source": [
    "### Duplicate Transactions\n",
    "\n",
    "First find the total count of duplicates that resulted from **reversed transactions**."
   ]
  },
  {
   "cell_type": "code",
   "execution_count": 12,
   "metadata": {},
   "outputs": [
    {
     "name": "stdout",
     "output_type": "stream",
     "text": [
      "Total number of reversal duplicates:  17759\n",
      "Total dollar amount of reversal duplicates: $ 2666519.26999999\n"
     ]
    }
   ],
   "source": [
    "dfUniqueTransaction = df[['accountNumber', 'merchantName', 'transactionType', 'transactionAmount', 'transactionDateTime']]\n",
    "dfPurchase = dfUniqueTransaction[df['transactionType'] == 'PURCHASE']\n",
    "dfReversal = dfUniqueTransaction[df['transactionType'] == 'REVERSAL']\n",
    "\n",
    "totalReversedDuplicates = 0\n",
    "totalReversedDuplicatesAmount = 0\n",
    "\n",
    "dfPurchaseSameAccount = None\n",
    "prevAccountNumber = None\n",
    "\n",
    "for _, row in dfReversal.iterrows():\n",
    "    if row['accountNumber'] != prevAccountNumber:\n",
    "        dfPurchaseSameAccount = dfPurchase[dfPurchase['accountNumber'] == row['accountNumber']]\n",
    "        prevAccountNumber = row['accountNumber']\n",
    "    if ((dfPurchaseSameAccount['transactionAmount'] == row['transactionAmount']) & (dfPurchaseSameAccount['merchantName'] == row['merchantName']) & (row['transactionDateTime'] > dfPurchaseSameAccount['transactionDateTime'])).any():\n",
    "        totalReversedDuplicates += 1\n",
    "        totalReversedDuplicatesAmount += row['transactionAmount']\n",
    "\n",
    "print('Total number of reversal duplicates: ', totalReversedDuplicates)\n",
    "print('Total dollar amount of reversal duplicates: $', totalReversedDuplicatesAmount)"
   ]
  },
  {
   "cell_type": "markdown",
   "metadata": {},
   "source": [
    "Now we will find total count of duplicates that resulted from **multiple swipes**."
   ]
  },
  {
   "cell_type": "code",
   "execution_count": 13,
   "metadata": {},
   "outputs": [
    {
     "name": "stdout",
     "output_type": "stream",
     "text": [
      "Total number of multiple swipes duplicates:  7463\n",
      "Total dollar amount of multiple swipes duplicates: $ 1103262.1899999934\n"
     ]
    }
   ],
   "source": [
    "dfUniqueTransaction = df[['accountNumber', 'merchantName', 'transactionType', 'transactionAmount', 'transactionDateTime']]\n",
    "dfPurchase = dfUniqueTransaction[dfUniqueTransaction['transactionType'] == 'PURCHASE']\n",
    "dfPurchase =dfPurchase.reset_index(drop=True)\n",
    "\n",
    "totalMultiSwipeDuplicates = 0\n",
    "totalMultiSwipeDuplicatesAmount = 0\n",
    "\n",
    "lastSeenDuplicateTransaction = -1\n",
    "\n",
    "for index1, row in dfPurchase.iterrows():\n",
    "        \n",
    "    if index1 < lastSeenDuplicateTransaction:\n",
    "        continue\n",
    "        \n",
    "    for index2 in range(index1+1, dfPurchase.shape[0]):\n",
    "        if row['accountNumber'] != dfPurchase.iloc[index2]['accountNumber']:\n",
    "            break\n",
    "        t1 = pd.to_datetime(row['transactionDateTime'])\n",
    "        t2 = pd.to_datetime(dfPurchase.iloc[index2]['transactionDateTime'])\n",
    "        \n",
    "        \n",
    "        if pd.Timedelta(t2 - t1).seconds > 300:\n",
    "            break\n",
    "                       \n",
    "        if (row['merchantName'] == dfPurchase.iloc[index2]['merchantName']) and (row['transactionAmount'] == dfPurchase.iloc[index2]['transactionAmount']):\n",
    "            totalMultiSwipeDuplicates += 1\n",
    "            totalMultiSwipeDuplicatesAmount += row['transactionAmount']\n",
    "            lastSeenDuplicateTransaction = index2    \n",
    "\n",
    "print('Total number of multiple swipes duplicates: ', totalMultiSwipeDuplicates)\n",
    "print('Total dollar amount of multiple swipes duplicates: $', totalMultiSwipeDuplicatesAmount)"
   ]
  },
  {
   "cell_type": "markdown",
   "metadata": {},
   "source": [
    "Some interesting observation about the duplicate transactions:\n",
    "\n",
    "* Five fields in the dataset were particularly important to identify both types of duplicate transactions\n",
    "    * accountNumber\n",
    "    * merchantName\n",
    "    * transactionType\n",
    "    * transactionAmount\n",
    "    * transactionDateTime\n",
    "    \n",
    "    \n",
    "* Mean value of the amount of both types of duplicate is nearly the same as mean value of total transaction amount. I can intuitively say that the duplicates do not form a distribution that is significantly different from the overall distribution of  transactions."
   ]
  },
  {
   "cell_type": "markdown",
   "metadata": {},
   "source": [
    "## Predictive Model"
   ]
  },
  {
   "cell_type": "markdown",
   "metadata": {},
   "source": [
    "### Data preprocessing"
   ]
  },
  {
   "cell_type": "markdown",
   "metadata": {},
   "source": [
    "Lets find the fields that has constant (same) values in all rows."
   ]
  },
  {
   "cell_type": "code",
   "execution_count": 110,
   "metadata": {},
   "outputs": [
    {
     "data": {
      "text/plain": [
       "Index(['echoBuffer', 'merchantCity', 'merchantState', 'merchantZip',\n",
       "       'posOnPremises', 'recurringAuthInd'],\n",
       "      dtype='object')"
      ]
     },
     "execution_count": 110,
     "metadata": {},
     "output_type": "execute_result"
    }
   ],
   "source": [
    "nunique = df.apply(pd.Series.nunique)\n",
    "constantColumnNames = nunique[nunique == 1].index\n",
    "constantColumnNames"
   ]
  },
  {
   "cell_type": "markdown",
   "metadata": {},
   "source": [
    "Now drop these fields from the dataframe."
   ]
  },
  {
   "cell_type": "code",
   "execution_count": 111,
   "metadata": {},
   "outputs": [],
   "source": [
    "df.drop(columns=constantColumnNames, axis=1, inplace=True)"
   ]
  },
  {
   "cell_type": "markdown",
   "metadata": {},
   "source": [
    "If there are fields that are duplicates (another column exists with same value for each row), we should remove one of the duplicate columns. Below we found that **customerId** is a duplicate field."
   ]
  },
  {
   "cell_type": "code",
   "execution_count": 112,
   "metadata": {},
   "outputs": [
    {
     "data": {
      "text/plain": [
       "['customerId']"
      ]
     },
     "execution_count": 112,
     "metadata": {},
     "output_type": "execute_result"
    }
   ],
   "source": [
    "duplicateColumnNames = set()\n",
    "# Iterate over all the columns in dataframe\n",
    "for x in range(df.shape[1]):\n",
    "    # Select column at xth index.\n",
    "    col = df.iloc[:, x]\n",
    "    # Iterate over all the columns in DataFrame from (x+1)th index till end\n",
    "    for y in range(x + 1, df.shape[1]):\n",
    "        # Select column at yth index.\n",
    "        otherCol = df.iloc[:, y]\n",
    "        # Check if two columns at x 7 y index are equal\n",
    "        if col.equals(otherCol):\n",
    "            duplicateColumnNames.add(df.columns.values[y])\n",
    "duplicateColumnNames = list(duplicateColumnNames)\n",
    "duplicateColumnNames"
   ]
  },
  {
   "cell_type": "markdown",
   "metadata": {},
   "source": [
    "Lets drop **customerId** field"
   ]
  },
  {
   "cell_type": "code",
   "execution_count": 113,
   "metadata": {},
   "outputs": [],
   "source": [
    "df.drop(columns=duplicateColumnNames, axis=1, inplace=True)"
   ]
  },
  {
   "cell_type": "markdown",
   "metadata": {},
   "source": [
    "Adding a new field **CVVmatched** that shows if entered CVV matched with original CVV"
   ]
  },
  {
   "cell_type": "code",
   "execution_count": 114,
   "metadata": {},
   "outputs": [],
   "source": [
    "df['CVVmatched'] = df['enteredCVV'] == df['cardCVV']"
   ]
  },
  {
   "cell_type": "markdown",
   "metadata": {},
   "source": [
    "Adding a new field **accountAge** that shows how long ago (in seconds) the account was opened until the transaction"
   ]
  },
  {
   "cell_type": "code",
   "execution_count": 115,
   "metadata": {},
   "outputs": [],
   "source": [
    "df['accountAge'] = pd.to_datetime(df['transactionDateTime']) - pd.to_datetime(df['accountOpenDate'])\n",
    "df['accountAge'] = df['accountAge'].dt.total_seconds()"
   ]
  },
  {
   "cell_type": "markdown",
   "metadata": {},
   "source": [
    "Adding a new field **addressAge** that shows what how long (in seconds) the cardholder has been living in his last address until the transaction "
   ]
  },
  {
   "cell_type": "code",
   "execution_count": 116,
   "metadata": {
    "scrolled": true
   },
   "outputs": [],
   "source": [
    "df['addressAge'] = pd.to_datetime(df['transactionDateTime']) - pd.to_datetime(df['dateOfLastAddressChange'])\n",
    "df['addressAge'] = df['addressAge'].dt.total_seconds()"
   ]
  },
  {
   "cell_type": "markdown",
   "metadata": {},
   "source": [
    "### Feature Selection\n",
    "\n",
    "From the correlation matrix below we see **creditLimit** and **availableMoney** are highly correlated."
   ]
  },
  {
   "cell_type": "code",
   "execution_count": 117,
   "metadata": {},
   "outputs": [
    {
     "data": {
      "text/html": [
       "<style  type=\"text/css\" >\n",
       "    #T_2b59ae24_2281_11eb_9e54_00e18c9a0e9erow0_col0 {\n",
       "            background-color:  #b40426;\n",
       "        }    #T_2b59ae24_2281_11eb_9e54_00e18c9a0e9erow0_col1 {\n",
       "            background-color:  #485fd1;\n",
       "        }    #T_2b59ae24_2281_11eb_9e54_00e18c9a0e9erow0_col2 {\n",
       "            background-color:  #e46e56;\n",
       "        }    #T_2b59ae24_2281_11eb_9e54_00e18c9a0e9erow0_col3 {\n",
       "            background-color:  #8fb1fe;\n",
       "        }    #T_2b59ae24_2281_11eb_9e54_00e18c9a0e9erow0_col4 {\n",
       "            background-color:  #3c4ec2;\n",
       "        }    #T_2b59ae24_2281_11eb_9e54_00e18c9a0e9erow0_col5 {\n",
       "            background-color:  #465ecf;\n",
       "        }    #T_2b59ae24_2281_11eb_9e54_00e18c9a0e9erow0_col6 {\n",
       "            background-color:  #3f53c6;\n",
       "        }    #T_2b59ae24_2281_11eb_9e54_00e18c9a0e9erow0_col7 {\n",
       "            background-color:  #3d50c3;\n",
       "        }    #T_2b59ae24_2281_11eb_9e54_00e18c9a0e9erow0_col8 {\n",
       "            background-color:  #4b64d5;\n",
       "        }    #T_2b59ae24_2281_11eb_9e54_00e18c9a0e9erow0_col9 {\n",
       "            background-color:  #7597f6;\n",
       "        }    #T_2b59ae24_2281_11eb_9e54_00e18c9a0e9erow1_col0 {\n",
       "            background-color:  #4055c8;\n",
       "        }    #T_2b59ae24_2281_11eb_9e54_00e18c9a0e9erow1_col1 {\n",
       "            background-color:  #b40426;\n",
       "        }    #T_2b59ae24_2281_11eb_9e54_00e18c9a0e9erow1_col2 {\n",
       "            background-color:  #4b64d5;\n",
       "        }    #T_2b59ae24_2281_11eb_9e54_00e18c9a0e9erow1_col3 {\n",
       "            background-color:  #6485ec;\n",
       "        }    #T_2b59ae24_2281_11eb_9e54_00e18c9a0e9erow1_col4 {\n",
       "            background-color:  #465ecf;\n",
       "        }    #T_2b59ae24_2281_11eb_9e54_00e18c9a0e9erow1_col5 {\n",
       "            background-color:  #3b4cc0;\n",
       "        }    #T_2b59ae24_2281_11eb_9e54_00e18c9a0e9erow1_col6 {\n",
       "            background-color:  #4e68d8;\n",
       "        }    #T_2b59ae24_2281_11eb_9e54_00e18c9a0e9erow1_col7 {\n",
       "            background-color:  #3e51c5;\n",
       "        }    #T_2b59ae24_2281_11eb_9e54_00e18c9a0e9erow1_col8 {\n",
       "            background-color:  #5875e1;\n",
       "        }    #T_2b59ae24_2281_11eb_9e54_00e18c9a0e9erow1_col9 {\n",
       "            background-color:  #6c8ff1;\n",
       "        }    #T_2b59ae24_2281_11eb_9e54_00e18c9a0e9erow2_col0 {\n",
       "            background-color:  #e67259;\n",
       "        }    #T_2b59ae24_2281_11eb_9e54_00e18c9a0e9erow2_col1 {\n",
       "            background-color:  #455cce;\n",
       "        }    #T_2b59ae24_2281_11eb_9e54_00e18c9a0e9erow2_col2 {\n",
       "            background-color:  #b40426;\n",
       "        }    #T_2b59ae24_2281_11eb_9e54_00e18c9a0e9erow2_col3 {\n",
       "            background-color:  #f7aa8c;\n",
       "        }    #T_2b59ae24_2281_11eb_9e54_00e18c9a0e9erow2_col4 {\n",
       "            background-color:  #3b4cc0;\n",
       "        }    #T_2b59ae24_2281_11eb_9e54_00e18c9a0e9erow2_col5 {\n",
       "            background-color:  #485fd1;\n",
       "        }    #T_2b59ae24_2281_11eb_9e54_00e18c9a0e9erow2_col6 {\n",
       "            background-color:  #445acc;\n",
       "        }    #T_2b59ae24_2281_11eb_9e54_00e18c9a0e9erow2_col7 {\n",
       "            background-color:  #3d50c3;\n",
       "        }    #T_2b59ae24_2281_11eb_9e54_00e18c9a0e9erow2_col8 {\n",
       "            background-color:  #3f53c6;\n",
       "        }    #T_2b59ae24_2281_11eb_9e54_00e18c9a0e9erow2_col9 {\n",
       "            background-color:  #5673e0;\n",
       "        }    #T_2b59ae24_2281_11eb_9e54_00e18c9a0e9erow3_col0 {\n",
       "            background-color:  #688aef;\n",
       "        }    #T_2b59ae24_2281_11eb_9e54_00e18c9a0e9erow3_col1 {\n",
       "            background-color:  #445acc;\n",
       "        }    #T_2b59ae24_2281_11eb_9e54_00e18c9a0e9erow3_col2 {\n",
       "            background-color:  #f7b599;\n",
       "        }    #T_2b59ae24_2281_11eb_9e54_00e18c9a0e9erow3_col3 {\n",
       "            background-color:  #b40426;\n",
       "        }    #T_2b59ae24_2281_11eb_9e54_00e18c9a0e9erow3_col4 {\n",
       "            background-color:  #3b4cc0;\n",
       "        }    #T_2b59ae24_2281_11eb_9e54_00e18c9a0e9erow3_col5 {\n",
       "            background-color:  #4961d2;\n",
       "        }    #T_2b59ae24_2281_11eb_9e54_00e18c9a0e9erow3_col6 {\n",
       "            background-color:  #4a63d3;\n",
       "        }    #T_2b59ae24_2281_11eb_9e54_00e18c9a0e9erow3_col7 {\n",
       "            background-color:  #3e51c5;\n",
       "        }    #T_2b59ae24_2281_11eb_9e54_00e18c9a0e9erow3_col8 {\n",
       "            background-color:  #3b4cc0;\n",
       "        }    #T_2b59ae24_2281_11eb_9e54_00e18c9a0e9erow3_col9 {\n",
       "            background-color:  #3b4cc0;\n",
       "        }    #T_2b59ae24_2281_11eb_9e54_00e18c9a0e9erow4_col0 {\n",
       "            background-color:  #4257c9;\n",
       "        }    #T_2b59ae24_2281_11eb_9e54_00e18c9a0e9erow4_col1 {\n",
       "            background-color:  #536edd;\n",
       "        }    #T_2b59ae24_2281_11eb_9e54_00e18c9a0e9erow4_col2 {\n",
       "            background-color:  #4c66d6;\n",
       "        }    #T_2b59ae24_2281_11eb_9e54_00e18c9a0e9erow4_col3 {\n",
       "            background-color:  #6788ee;\n",
       "        }    #T_2b59ae24_2281_11eb_9e54_00e18c9a0e9erow4_col4 {\n",
       "            background-color:  #b40426;\n",
       "        }    #T_2b59ae24_2281_11eb_9e54_00e18c9a0e9erow4_col5 {\n",
       "            background-color:  #465ecf;\n",
       "        }    #T_2b59ae24_2281_11eb_9e54_00e18c9a0e9erow4_col6 {\n",
       "            background-color:  #4358cb;\n",
       "        }    #T_2b59ae24_2281_11eb_9e54_00e18c9a0e9erow4_col7 {\n",
       "            background-color:  #3d50c3;\n",
       "        }    #T_2b59ae24_2281_11eb_9e54_00e18c9a0e9erow4_col8 {\n",
       "            background-color:  #516ddb;\n",
       "        }    #T_2b59ae24_2281_11eb_9e54_00e18c9a0e9erow4_col9 {\n",
       "            background-color:  #688aef;\n",
       "        }    #T_2b59ae24_2281_11eb_9e54_00e18c9a0e9erow5_col0 {\n",
       "            background-color:  #3f53c6;\n",
       "        }    #T_2b59ae24_2281_11eb_9e54_00e18c9a0e9erow5_col1 {\n",
       "            background-color:  #3b4cc0;\n",
       "        }    #T_2b59ae24_2281_11eb_9e54_00e18c9a0e9erow5_col2 {\n",
       "            background-color:  #4c66d6;\n",
       "        }    #T_2b59ae24_2281_11eb_9e54_00e18c9a0e9erow5_col3 {\n",
       "            background-color:  #6a8bef;\n",
       "        }    #T_2b59ae24_2281_11eb_9e54_00e18c9a0e9erow5_col4 {\n",
       "            background-color:  #3b4cc0;\n",
       "        }    #T_2b59ae24_2281_11eb_9e54_00e18c9a0e9erow5_col5 {\n",
       "            background-color:  #b40426;\n",
       "        }    #T_2b59ae24_2281_11eb_9e54_00e18c9a0e9erow5_col6 {\n",
       "            background-color:  #5977e3;\n",
       "        }    #T_2b59ae24_2281_11eb_9e54_00e18c9a0e9erow5_col7 {\n",
       "            background-color:  #3b4cc0;\n",
       "        }    #T_2b59ae24_2281_11eb_9e54_00e18c9a0e9erow5_col8 {\n",
       "            background-color:  #506bda;\n",
       "        }    #T_2b59ae24_2281_11eb_9e54_00e18c9a0e9erow5_col9 {\n",
       "            background-color:  #6687ed;\n",
       "        }    #T_2b59ae24_2281_11eb_9e54_00e18c9a0e9erow6_col0 {\n",
       "            background-color:  #3d50c3;\n",
       "        }    #T_2b59ae24_2281_11eb_9e54_00e18c9a0e9erow6_col1 {\n",
       "            background-color:  #516ddb;\n",
       "        }    #T_2b59ae24_2281_11eb_9e54_00e18c9a0e9erow6_col2 {\n",
       "            background-color:  #4e68d8;\n",
       "        }    #T_2b59ae24_2281_11eb_9e54_00e18c9a0e9erow6_col3 {\n",
       "            background-color:  #6f92f3;\n",
       "        }    #T_2b59ae24_2281_11eb_9e54_00e18c9a0e9erow6_col4 {\n",
       "            background-color:  #3b4cc0;\n",
       "        }    #T_2b59ae24_2281_11eb_9e54_00e18c9a0e9erow6_col5 {\n",
       "            background-color:  #5e7de7;\n",
       "        }    #T_2b59ae24_2281_11eb_9e54_00e18c9a0e9erow6_col6 {\n",
       "            background-color:  #b40426;\n",
       "        }    #T_2b59ae24_2281_11eb_9e54_00e18c9a0e9erow6_col7 {\n",
       "            background-color:  #3d50c3;\n",
       "        }    #T_2b59ae24_2281_11eb_9e54_00e18c9a0e9erow6_col8 {\n",
       "            background-color:  #4f69d9;\n",
       "        }    #T_2b59ae24_2281_11eb_9e54_00e18c9a0e9erow6_col9 {\n",
       "            background-color:  #5f7fe8;\n",
       "        }    #T_2b59ae24_2281_11eb_9e54_00e18c9a0e9erow7_col0 {\n",
       "            background-color:  #4055c8;\n",
       "        }    #T_2b59ae24_2281_11eb_9e54_00e18c9a0e9erow7_col1 {\n",
       "            background-color:  #485fd1;\n",
       "        }    #T_2b59ae24_2281_11eb_9e54_00e18c9a0e9erow7_col2 {\n",
       "            background-color:  #4c66d6;\n",
       "        }    #T_2b59ae24_2281_11eb_9e54_00e18c9a0e9erow7_col3 {\n",
       "            background-color:  #688aef;\n",
       "        }    #T_2b59ae24_2281_11eb_9e54_00e18c9a0e9erow7_col4 {\n",
       "            background-color:  #3b4cc0;\n",
       "        }    #T_2b59ae24_2281_11eb_9e54_00e18c9a0e9erow7_col5 {\n",
       "            background-color:  #445acc;\n",
       "        }    #T_2b59ae24_2281_11eb_9e54_00e18c9a0e9erow7_col6 {\n",
       "            background-color:  #4358cb;\n",
       "        }    #T_2b59ae24_2281_11eb_9e54_00e18c9a0e9erow7_col7 {\n",
       "            background-color:  #b40426;\n",
       "        }    #T_2b59ae24_2281_11eb_9e54_00e18c9a0e9erow7_col8 {\n",
       "            background-color:  #516ddb;\n",
       "        }    #T_2b59ae24_2281_11eb_9e54_00e18c9a0e9erow7_col9 {\n",
       "            background-color:  #6788ee;\n",
       "        }    #T_2b59ae24_2281_11eb_9e54_00e18c9a0e9erow8_col0 {\n",
       "            background-color:  #3b4cc0;\n",
       "        }    #T_2b59ae24_2281_11eb_9e54_00e18c9a0e9erow8_col1 {\n",
       "            background-color:  #4c66d6;\n",
       "        }    #T_2b59ae24_2281_11eb_9e54_00e18c9a0e9erow8_col2 {\n",
       "            background-color:  #3b4cc0;\n",
       "        }    #T_2b59ae24_2281_11eb_9e54_00e18c9a0e9erow8_col3 {\n",
       "            background-color:  #516ddb;\n",
       "        }    #T_2b59ae24_2281_11eb_9e54_00e18c9a0e9erow8_col4 {\n",
       "            background-color:  #3b4cc0;\n",
       "        }    #T_2b59ae24_2281_11eb_9e54_00e18c9a0e9erow8_col5 {\n",
       "            background-color:  #455cce;\n",
       "        }    #T_2b59ae24_2281_11eb_9e54_00e18c9a0e9erow8_col6 {\n",
       "            background-color:  #4055c8;\n",
       "        }    #T_2b59ae24_2281_11eb_9e54_00e18c9a0e9erow8_col7 {\n",
       "            background-color:  #3d50c3;\n",
       "        }    #T_2b59ae24_2281_11eb_9e54_00e18c9a0e9erow8_col8 {\n",
       "            background-color:  #b40426;\n",
       "        }    #T_2b59ae24_2281_11eb_9e54_00e18c9a0e9erow8_col9 {\n",
       "            background-color:  #f6bea4;\n",
       "        }    #T_2b59ae24_2281_11eb_9e54_00e18c9a0e9erow9_col0 {\n",
       "            background-color:  #4c66d6;\n",
       "        }    #T_2b59ae24_2281_11eb_9e54_00e18c9a0e9erow9_col1 {\n",
       "            background-color:  #4b64d5;\n",
       "        }    #T_2b59ae24_2281_11eb_9e54_00e18c9a0e9erow9_col2 {\n",
       "            background-color:  #3b4cc0;\n",
       "        }    #T_2b59ae24_2281_11eb_9e54_00e18c9a0e9erow9_col3 {\n",
       "            background-color:  #3b4cc0;\n",
       "        }    #T_2b59ae24_2281_11eb_9e54_00e18c9a0e9erow9_col4 {\n",
       "            background-color:  #3b4cc0;\n",
       "        }    #T_2b59ae24_2281_11eb_9e54_00e18c9a0e9erow9_col5 {\n",
       "            background-color:  #455cce;\n",
       "        }    #T_2b59ae24_2281_11eb_9e54_00e18c9a0e9erow9_col6 {\n",
       "            background-color:  #3b4cc0;\n",
       "        }    #T_2b59ae24_2281_11eb_9e54_00e18c9a0e9erow9_col7 {\n",
       "            background-color:  #3d50c3;\n",
       "        }    #T_2b59ae24_2281_11eb_9e54_00e18c9a0e9erow9_col8 {\n",
       "            background-color:  #f3c7b1;\n",
       "        }    #T_2b59ae24_2281_11eb_9e54_00e18c9a0e9erow9_col9 {\n",
       "            background-color:  #b40426;\n",
       "        }</style>  \n",
       "<table id=\"T_2b59ae24_2281_11eb_9e54_00e18c9a0e9e\" > \n",
       "<thead>    <tr> \n",
       "        <th class=\"blank level0\" ></th> \n",
       "        <th class=\"col_heading level0 col0\" >availableMoney</th> \n",
       "        <th class=\"col_heading level0 col1\" >cardPresent</th> \n",
       "        <th class=\"col_heading level0 col2\" >creditLimit</th> \n",
       "        <th class=\"col_heading level0 col3\" >currentBalance</th> \n",
       "        <th class=\"col_heading level0 col4\" >expirationDateKeyInMatch</th> \n",
       "        <th class=\"col_heading level0 col5\" >isFraud</th> \n",
       "        <th class=\"col_heading level0 col6\" >transactionAmount</th> \n",
       "        <th class=\"col_heading level0 col7\" >CVVmatched</th> \n",
       "        <th class=\"col_heading level0 col8\" >accountAge</th> \n",
       "        <th class=\"col_heading level0 col9\" >addressAge</th> \n",
       "    </tr></thead> \n",
       "<tbody>    <tr> \n",
       "        <th id=\"T_2b59ae24_2281_11eb_9e54_00e18c9a0e9elevel0_row0\" class=\"row_heading level0 row0\" >availableMoney</th> \n",
       "        <td id=\"T_2b59ae24_2281_11eb_9e54_00e18c9a0e9erow0_col0\" class=\"data row0 col0\" >1</td> \n",
       "        <td id=\"T_2b59ae24_2281_11eb_9e54_00e18c9a0e9erow0_col1\" class=\"data row0 col1\" >0.00250818</td> \n",
       "        <td id=\"T_2b59ae24_2281_11eb_9e54_00e18c9a0e9erow0_col2\" class=\"data row0 col2\" >0.834977</td> \n",
       "        <td id=\"T_2b59ae24_2281_11eb_9e54_00e18c9a0e9erow0_col3\" class=\"data row0 col3\" >0.129332</td> \n",
       "        <td id=\"T_2b59ae24_2281_11eb_9e54_00e18c9a0e9erow0_col4\" class=\"data row0 col4\" >0.0040673</td> \n",
       "        <td id=\"T_2b59ae24_2281_11eb_9e54_00e18c9a0e9erow0_col5\" class=\"data row0 col5\" >-0.00153796</td> \n",
       "        <td id=\"T_2b59ae24_2281_11eb_9e54_00e18c9a0e9erow0_col6\" class=\"data row0 col6\" >-0.0100699</td> \n",
       "        <td id=\"T_2b59ae24_2281_11eb_9e54_00e18c9a0e9erow0_col7\" class=\"data row0 col7\" >-0.000582796</td> \n",
       "        <td id=\"T_2b59ae24_2281_11eb_9e54_00e18c9a0e9erow0_col8\" class=\"data row0 col8\" >-0.0210275</td> \n",
       "        <td id=\"T_2b59ae24_2281_11eb_9e54_00e18c9a0e9erow0_col9\" class=\"data row0 col9\" >0.0415915</td> \n",
       "    </tr>    <tr> \n",
       "        <th id=\"T_2b59ae24_2281_11eb_9e54_00e18c9a0e9elevel0_row1\" class=\"row_heading level0 row1\" >cardPresent</th> \n",
       "        <td id=\"T_2b59ae24_2281_11eb_9e54_00e18c9a0e9erow1_col0\" class=\"data row1 col0\" >0.00250818</td> \n",
       "        <td id=\"T_2b59ae24_2281_11eb_9e54_00e18c9a0e9erow1_col1\" class=\"data row1 col1\" >1</td> \n",
       "        <td id=\"T_2b59ae24_2281_11eb_9e54_00e18c9a0e9erow1_col2\" class=\"data row1 col2\" >-0.00392873</td> \n",
       "        <td id=\"T_2b59ae24_2281_11eb_9e54_00e18c9a0e9erow1_col3\" class=\"data row1 col3\" >-0.0105289</td> \n",
       "        <td id=\"T_2b59ae24_2281_11eb_9e54_00e18c9a0e9erow1_col4\" class=\"data row1 col4\" >0.0403929</td> \n",
       "        <td id=\"T_2b59ae24_2281_11eb_9e54_00e18c9a0e9erow1_col5\" class=\"data row1 col5\" >-0.0434179</td> \n",
       "        <td id=\"T_2b59ae24_2281_11eb_9e54_00e18c9a0e9erow1_col6\" class=\"data row1 col6\" >0.0373605</td> \n",
       "        <td id=\"T_2b59ae24_2281_11eb_9e54_00e18c9a0e9erow1_col7\" class=\"data row1 col7\" >0.00298763</td> \n",
       "        <td id=\"T_2b59ae24_2281_11eb_9e54_00e18c9a0e9erow1_col8\" class=\"data row1 col8\" >0.0205363</td> \n",
       "        <td id=\"T_2b59ae24_2281_11eb_9e54_00e18c9a0e9erow1_col9\" class=\"data row1 col9\" >0.0137109</td> \n",
       "    </tr>    <tr> \n",
       "        <th id=\"T_2b59ae24_2281_11eb_9e54_00e18c9a0e9elevel0_row2\" class=\"row_heading level0 row2\" >creditLimit</th> \n",
       "        <td id=\"T_2b59ae24_2281_11eb_9e54_00e18c9a0e9erow2_col0\" class=\"data row2 col0\" >0.834977</td> \n",
       "        <td id=\"T_2b59ae24_2281_11eb_9e54_00e18c9a0e9erow2_col1\" class=\"data row2 col1\" >-0.00392873</td> \n",
       "        <td id=\"T_2b59ae24_2281_11eb_9e54_00e18c9a0e9erow2_col2\" class=\"data row2 col2\" >1</td> \n",
       "        <td id=\"T_2b59ae24_2281_11eb_9e54_00e18c9a0e9erow2_col3\" class=\"data row2 col3\" >0.653652</td> \n",
       "        <td id=\"T_2b59ae24_2281_11eb_9e54_00e18c9a0e9erow2_col4\" class=\"data row2 col4\" >0.00239136</td> \n",
       "        <td id=\"T_2b59ae24_2281_11eb_9e54_00e18c9a0e9erow2_col5\" class=\"data row2 col5\" >0.00310771</td> \n",
       "        <td id=\"T_2b59ae24_2281_11eb_9e54_00e18c9a0e9erow2_col6\" class=\"data row2 col6\" >0.00558069</td> \n",
       "        <td id=\"T_2b59ae24_2281_11eb_9e54_00e18c9a0e9erow2_col7\" class=\"data row2 col7\" >0.0013426</td> \n",
       "        <td id=\"T_2b59ae24_2281_11eb_9e54_00e18c9a0e9erow2_col8\" class=\"data row2 col8\" >-0.0615497</td> \n",
       "        <td id=\"T_2b59ae24_2281_11eb_9e54_00e18c9a0e9erow2_col9\" class=\"data row2 col9\" >-0.0624685</td> \n",
       "    </tr>    <tr> \n",
       "        <th id=\"T_2b59ae24_2281_11eb_9e54_00e18c9a0e9elevel0_row3\" class=\"row_heading level0 row3\" >currentBalance</th> \n",
       "        <td id=\"T_2b59ae24_2281_11eb_9e54_00e18c9a0e9erow3_col0\" class=\"data row3 col0\" >0.129332</td> \n",
       "        <td id=\"T_2b59ae24_2281_11eb_9e54_00e18c9a0e9erow3_col1\" class=\"data row3 col1\" >-0.0105289</td> \n",
       "        <td id=\"T_2b59ae24_2281_11eb_9e54_00e18c9a0e9erow3_col2\" class=\"data row3 col2\" >0.653652</td> \n",
       "        <td id=\"T_2b59ae24_2281_11eb_9e54_00e18c9a0e9erow3_col3\" class=\"data row3 col3\" >1</td> \n",
       "        <td id=\"T_2b59ae24_2281_11eb_9e54_00e18c9a0e9erow3_col4\" class=\"data row3 col4\" >-0.00128451</td> \n",
       "        <td id=\"T_2b59ae24_2281_11eb_9e54_00e18c9a0e9erow3_col5\" class=\"data row3 col5\" >0.00771515</td> \n",
       "        <td id=\"T_2b59ae24_2281_11eb_9e54_00e18c9a0e9erow3_col6\" class=\"data row3 col6\" >0.0239052</td> \n",
       "        <td id=\"T_2b59ae24_2281_11eb_9e54_00e18c9a0e9erow3_col7\" class=\"data row3 col7\" >0.00322084</td> \n",
       "        <td id=\"T_2b59ae24_2281_11eb_9e54_00e18c9a0e9erow3_col8\" class=\"data row3 col8\" >-0.0819927</td> \n",
       "        <td id=\"T_2b59ae24_2281_11eb_9e54_00e18c9a0e9erow3_col9\" class=\"data row3 col9\" >-0.169767</td> \n",
       "    </tr>    <tr> \n",
       "        <th id=\"T_2b59ae24_2281_11eb_9e54_00e18c9a0e9elevel0_row4\" class=\"row_heading level0 row4\" >expirationDateKeyInMatch</th> \n",
       "        <td id=\"T_2b59ae24_2281_11eb_9e54_00e18c9a0e9erow4_col0\" class=\"data row4 col0\" >0.0040673</td> \n",
       "        <td id=\"T_2b59ae24_2281_11eb_9e54_00e18c9a0e9erow4_col1\" class=\"data row4 col1\" >0.0403929</td> \n",
       "        <td id=\"T_2b59ae24_2281_11eb_9e54_00e18c9a0e9erow4_col2\" class=\"data row4 col2\" >0.00239136</td> \n",
       "        <td id=\"T_2b59ae24_2281_11eb_9e54_00e18c9a0e9erow4_col3\" class=\"data row4 col3\" >-0.00128451</td> \n",
       "        <td id=\"T_2b59ae24_2281_11eb_9e54_00e18c9a0e9erow4_col4\" class=\"data row4 col4\" >1</td> \n",
       "        <td id=\"T_2b59ae24_2281_11eb_9e54_00e18c9a0e9erow4_col5\" class=\"data row4 col5\" >-0.000972409</td> \n",
       "        <td id=\"T_2b59ae24_2281_11eb_9e54_00e18c9a0e9erow4_col6\" class=\"data row4 col6\" >0.00175128</td> \n",
       "        <td id=\"T_2b59ae24_2281_11eb_9e54_00e18c9a0e9erow4_col7\" class=\"data row4 col7\" >0.00011312</td> \n",
       "        <td id=\"T_2b59ae24_2281_11eb_9e54_00e18c9a0e9erow4_col8\" class=\"data row4 col8\" >0.00121994</td> \n",
       "        <td id=\"T_2b59ae24_2281_11eb_9e54_00e18c9a0e9erow4_col9\" class=\"data row4 col9\" >0.00101405</td> \n",
       "    </tr>    <tr> \n",
       "        <th id=\"T_2b59ae24_2281_11eb_9e54_00e18c9a0e9elevel0_row5\" class=\"row_heading level0 row5\" >isFraud</th> \n",
       "        <td id=\"T_2b59ae24_2281_11eb_9e54_00e18c9a0e9erow5_col0\" class=\"data row5 col0\" >-0.00153796</td> \n",
       "        <td id=\"T_2b59ae24_2281_11eb_9e54_00e18c9a0e9erow5_col1\" class=\"data row5 col1\" >-0.0434179</td> \n",
       "        <td id=\"T_2b59ae24_2281_11eb_9e54_00e18c9a0e9erow5_col2\" class=\"data row5 col2\" >0.00310771</td> \n",
       "        <td id=\"T_2b59ae24_2281_11eb_9e54_00e18c9a0e9erow5_col3\" class=\"data row5 col3\" >0.00771515</td> \n",
       "        <td id=\"T_2b59ae24_2281_11eb_9e54_00e18c9a0e9erow5_col4\" class=\"data row5 col4\" >-0.000972409</td> \n",
       "        <td id=\"T_2b59ae24_2281_11eb_9e54_00e18c9a0e9erow5_col5\" class=\"data row5 col5\" >1</td> \n",
       "        <td id=\"T_2b59ae24_2281_11eb_9e54_00e18c9a0e9erow5_col6\" class=\"data row5 col6\" >0.075651</td> \n",
       "        <td id=\"T_2b59ae24_2281_11eb_9e54_00e18c9a0e9erow5_col7\" class=\"data row5 col7\" >-0.0100058</td> \n",
       "        <td id=\"T_2b59ae24_2281_11eb_9e54_00e18c9a0e9erow5_col8\" class=\"data row5 col8\" >-0.0058991</td> \n",
       "        <td id=\"T_2b59ae24_2281_11eb_9e54_00e18c9a0e9erow5_col9\" class=\"data row5 col9\" >-0.00593282</td> \n",
       "    </tr>    <tr> \n",
       "        <th id=\"T_2b59ae24_2281_11eb_9e54_00e18c9a0e9elevel0_row6\" class=\"row_heading level0 row6\" >transactionAmount</th> \n",
       "        <td id=\"T_2b59ae24_2281_11eb_9e54_00e18c9a0e9erow6_col0\" class=\"data row6 col0\" >-0.0100699</td> \n",
       "        <td id=\"T_2b59ae24_2281_11eb_9e54_00e18c9a0e9erow6_col1\" class=\"data row6 col1\" >0.0373605</td> \n",
       "        <td id=\"T_2b59ae24_2281_11eb_9e54_00e18c9a0e9erow6_col2\" class=\"data row6 col2\" >0.00558069</td> \n",
       "        <td id=\"T_2b59ae24_2281_11eb_9e54_00e18c9a0e9erow6_col3\" class=\"data row6 col3\" >0.0239052</td> \n",
       "        <td id=\"T_2b59ae24_2281_11eb_9e54_00e18c9a0e9erow6_col4\" class=\"data row6 col4\" >0.00175128</td> \n",
       "        <td id=\"T_2b59ae24_2281_11eb_9e54_00e18c9a0e9erow6_col5\" class=\"data row6 col5\" >0.075651</td> \n",
       "        <td id=\"T_2b59ae24_2281_11eb_9e54_00e18c9a0e9erow6_col6\" class=\"data row6 col6\" >1</td> \n",
       "        <td id=\"T_2b59ae24_2281_11eb_9e54_00e18c9a0e9erow6_col7\" class=\"data row6 col7\" >0.000700685</td> \n",
       "        <td id=\"T_2b59ae24_2281_11eb_9e54_00e18c9a0e9erow6_col8\" class=\"data row6 col8\" >-0.00787902</td> \n",
       "        <td id=\"T_2b59ae24_2281_11eb_9e54_00e18c9a0e9erow6_col9\" class=\"data row6 col9\" >-0.0284304</td> \n",
       "    </tr>    <tr> \n",
       "        <th id=\"T_2b59ae24_2281_11eb_9e54_00e18c9a0e9elevel0_row7\" class=\"row_heading level0 row7\" >CVVmatched</th> \n",
       "        <td id=\"T_2b59ae24_2281_11eb_9e54_00e18c9a0e9erow7_col0\" class=\"data row7 col0\" >-0.000582796</td> \n",
       "        <td id=\"T_2b59ae24_2281_11eb_9e54_00e18c9a0e9erow7_col1\" class=\"data row7 col1\" >0.00298763</td> \n",
       "        <td id=\"T_2b59ae24_2281_11eb_9e54_00e18c9a0e9erow7_col2\" class=\"data row7 col2\" >0.0013426</td> \n",
       "        <td id=\"T_2b59ae24_2281_11eb_9e54_00e18c9a0e9erow7_col3\" class=\"data row7 col3\" >0.00322084</td> \n",
       "        <td id=\"T_2b59ae24_2281_11eb_9e54_00e18c9a0e9erow7_col4\" class=\"data row7 col4\" >0.00011312</td> \n",
       "        <td id=\"T_2b59ae24_2281_11eb_9e54_00e18c9a0e9erow7_col5\" class=\"data row7 col5\" >-0.0100058</td> \n",
       "        <td id=\"T_2b59ae24_2281_11eb_9e54_00e18c9a0e9erow7_col6\" class=\"data row7 col6\" >0.000700685</td> \n",
       "        <td id=\"T_2b59ae24_2281_11eb_9e54_00e18c9a0e9erow7_col7\" class=\"data row7 col7\" >1</td> \n",
       "        <td id=\"T_2b59ae24_2281_11eb_9e54_00e18c9a0e9erow7_col8\" class=\"data row7 col8\" >4.69003e-05</td> \n",
       "        <td id=\"T_2b59ae24_2281_11eb_9e54_00e18c9a0e9erow7_col9\" class=\"data row7 col9\" >-0.00124608</td> \n",
       "    </tr>    <tr> \n",
       "        <th id=\"T_2b59ae24_2281_11eb_9e54_00e18c9a0e9elevel0_row8\" class=\"row_heading level0 row8\" >accountAge</th> \n",
       "        <td id=\"T_2b59ae24_2281_11eb_9e54_00e18c9a0e9erow8_col0\" class=\"data row8 col0\" >-0.0210275</td> \n",
       "        <td id=\"T_2b59ae24_2281_11eb_9e54_00e18c9a0e9erow8_col1\" class=\"data row8 col1\" >0.0205363</td> \n",
       "        <td id=\"T_2b59ae24_2281_11eb_9e54_00e18c9a0e9erow8_col2\" class=\"data row8 col2\" >-0.0615497</td> \n",
       "        <td id=\"T_2b59ae24_2281_11eb_9e54_00e18c9a0e9erow8_col3\" class=\"data row8 col3\" >-0.0819927</td> \n",
       "        <td id=\"T_2b59ae24_2281_11eb_9e54_00e18c9a0e9erow8_col4\" class=\"data row8 col4\" >0.00121994</td> \n",
       "        <td id=\"T_2b59ae24_2281_11eb_9e54_00e18c9a0e9erow8_col5\" class=\"data row8 col5\" >-0.0058991</td> \n",
       "        <td id=\"T_2b59ae24_2281_11eb_9e54_00e18c9a0e9erow8_col6\" class=\"data row8 col6\" >-0.00787902</td> \n",
       "        <td id=\"T_2b59ae24_2281_11eb_9e54_00e18c9a0e9erow8_col7\" class=\"data row8 col7\" >4.69003e-05</td> \n",
       "        <td id=\"T_2b59ae24_2281_11eb_9e54_00e18c9a0e9erow8_col8\" class=\"data row8 col8\" >1</td> \n",
       "        <td id=\"T_2b59ae24_2281_11eb_9e54_00e18c9a0e9erow8_col9\" class=\"data row8 col9\" >0.585585</td> \n",
       "    </tr>    <tr> \n",
       "        <th id=\"T_2b59ae24_2281_11eb_9e54_00e18c9a0e9elevel0_row9\" class=\"row_heading level0 row9\" >addressAge</th> \n",
       "        <td id=\"T_2b59ae24_2281_11eb_9e54_00e18c9a0e9erow9_col0\" class=\"data row9 col0\" >0.0415915</td> \n",
       "        <td id=\"T_2b59ae24_2281_11eb_9e54_00e18c9a0e9erow9_col1\" class=\"data row9 col1\" >0.0137109</td> \n",
       "        <td id=\"T_2b59ae24_2281_11eb_9e54_00e18c9a0e9erow9_col2\" class=\"data row9 col2\" >-0.0624685</td> \n",
       "        <td id=\"T_2b59ae24_2281_11eb_9e54_00e18c9a0e9erow9_col3\" class=\"data row9 col3\" >-0.169767</td> \n",
       "        <td id=\"T_2b59ae24_2281_11eb_9e54_00e18c9a0e9erow9_col4\" class=\"data row9 col4\" >0.00101405</td> \n",
       "        <td id=\"T_2b59ae24_2281_11eb_9e54_00e18c9a0e9erow9_col5\" class=\"data row9 col5\" >-0.00593282</td> \n",
       "        <td id=\"T_2b59ae24_2281_11eb_9e54_00e18c9a0e9erow9_col6\" class=\"data row9 col6\" >-0.0284304</td> \n",
       "        <td id=\"T_2b59ae24_2281_11eb_9e54_00e18c9a0e9erow9_col7\" class=\"data row9 col7\" >-0.00124608</td> \n",
       "        <td id=\"T_2b59ae24_2281_11eb_9e54_00e18c9a0e9erow9_col8\" class=\"data row9 col8\" >0.585585</td> \n",
       "        <td id=\"T_2b59ae24_2281_11eb_9e54_00e18c9a0e9erow9_col9\" class=\"data row9 col9\" >1</td> \n",
       "    </tr></tbody> \n",
       "</table> "
      ],
      "text/plain": [
       "<pandas.io.formats.style.Styler at 0x1b4a2f0c278>"
      ]
     },
     "execution_count": 117,
     "metadata": {},
     "output_type": "execute_result"
    }
   ],
   "source": [
    "corr = df.corr()\n",
    "corr.style.background_gradient(cmap='coolwarm')"
   ]
  },
  {
   "cell_type": "markdown",
   "metadata": {},
   "source": [
    "Features **creditLimit** and **availableMoney** are highly correlated (ρ = 0.834977). I will drop **creditLimit**."
   ]
  },
  {
   "cell_type": "code",
   "execution_count": 118,
   "metadata": {},
   "outputs": [],
   "source": [
    "df.drop(columns=['creditLimit'], axis=1, inplace=True)"
   ]
  },
  {
   "cell_type": "markdown",
   "metadata": {},
   "source": [
    "For transactions with empty ('') **merchantCountryCode** value , below we see there is a higher ratio for a them being fraud."
   ]
  },
  {
   "cell_type": "markdown",
   "metadata": {},
   "source": [
    "Now lets remove unimportant categorical fields."
   ]
  },
  {
   "cell_type": "code",
   "execution_count": 119,
   "metadata": {},
   "outputs": [],
   "source": [
    "df.drop(columns=['currentExpDate','merchantName', 'accountOpenDate',  'cardLast4Digits',  'dateOfLastAddressChange', 'transactionDateTime', 'accountNumber', 'cardCVV', 'enteredCVV'], axis=1, inplace=True)"
   ]
  },
  {
   "cell_type": "code",
   "execution_count": 120,
   "metadata": {
    "scrolled": true
   },
   "outputs": [
    {
     "name": "stderr",
     "output_type": "stream",
     "text": [
      "C:\\Users\\mxs7435xx\\Anaconda3\\lib\\site-packages\\matplotlib\\figure.py:445: UserWarning: Matplotlib is currently using module://ipykernel.pylab.backend_inline, which is a non-GUI backend, so cannot show the figure.\n",
      "  % get_backend())\n"
     ]
    },
    {
     "data": {
      "image/png": "[encoded data removed]",
      "text/plain": [
       "<Figure size 1080x288 with 5 Axes>"
      ]
     },
     "metadata": {},
     "output_type": "display_data"
    }
   ],
   "source": [
    "fig, ax = plt.subplots(1, 5)\n",
    "sns.set(rc={'figure.figsize':(15, 4)})\n",
    "\n",
    "for index, value in enumerate(df['merchantCountryCode'].unique()):\n",
    "    sns.countplot(x='merchantCountryCode', hue='isFraud', data=df[df['merchantCountryCode']== value], ax=ax[index])\n",
    "fig.show()"
   ]
  },
  {
   "cell_type": "code",
   "execution_count": 121,
   "metadata": {},
   "outputs": [
    {
     "name": "stdout",
     "output_type": "stream",
     "text": [
      "Index(['acqCountry', 'availableMoney', 'cardPresent', 'currentBalance',\n",
      "       'expirationDateKeyInMatch', 'isFraud', 'merchantCategoryCode',\n",
      "       'merchantCountryCode', 'posConditionCode', 'posEntryMode',\n",
      "       'transactionAmount', 'transactionType', 'CVVmatched', 'accountAge',\n",
      "       'addressAge'],\n",
      "      dtype='object')\n"
     ]
    }
   ],
   "source": [
    "print(df.columns)"
   ]
  },
  {
   "cell_type": "code",
   "execution_count": 122,
   "metadata": {},
   "outputs": [],
   "source": [
    "df_temp = df\n",
    "dum_df = pd.get_dummies(df_temp, columns=['merchantCountryCode', 'merchantCategoryCode', 'transactionType', 'acqCountry', 'posConditionCode', 'posEntryMode'])\n",
    "df_temp = dum_df"
   ]
  },
  {
   "cell_type": "code",
   "execution_count": 123,
   "metadata": {},
   "outputs": [
    {
     "data": {
      "text/plain": [
       "Index(['availableMoney', 'cardPresent', 'currentBalance',\n",
       "       'expirationDateKeyInMatch', 'transactionAmount', 'CVVmatched',\n",
       "       'accountAge', 'addressAge', 'merchantCountryCode_',\n",
       "       'merchantCountryCode_CAN', 'merchantCountryCode_MEX',\n",
       "       'merchantCountryCode_PR', 'merchantCountryCode_US',\n",
       "       'merchantCategoryCode_airline', 'merchantCategoryCode_auto',\n",
       "       'merchantCategoryCode_cable/phone',\n",
       "       'merchantCategoryCode_entertainment', 'merchantCategoryCode_fastfood',\n",
       "       'merchantCategoryCode_food', 'merchantCategoryCode_food_delivery',\n",
       "       'merchantCategoryCode_fuel', 'merchantCategoryCode_furniture',\n",
       "       'merchantCategoryCode_gym', 'merchantCategoryCode_health',\n",
       "       'merchantCategoryCode_hotels', 'merchantCategoryCode_mobileapps',\n",
       "       'merchantCategoryCode_online_gifts',\n",
       "       'merchantCategoryCode_online_retail',\n",
       "       'merchantCategoryCode_online_subscriptions',\n",
       "       'merchantCategoryCode_personal care', 'merchantCategoryCode_rideshare',\n",
       "       'merchantCategoryCode_subscriptions', 'transactionType_',\n",
       "       'transactionType_ADDRESS_VERIFICATION', 'transactionType_PURCHASE',\n",
       "       'transactionType_REVERSAL', 'acqCountry_', 'acqCountry_CAN',\n",
       "       'acqCountry_MEX', 'acqCountry_PR', 'acqCountry_US', 'posConditionCode_',\n",
       "       'posConditionCode_01', 'posConditionCode_08', 'posConditionCode_99',\n",
       "       'posEntryMode_', 'posEntryMode_02', 'posEntryMode_05',\n",
       "       'posEntryMode_09', 'posEntryMode_80', 'posEntryMode_90'],\n",
       "      dtype='object')"
      ]
     },
     "execution_count": 123,
     "metadata": {},
     "output_type": "execute_result"
    }
   ],
   "source": [
    "y = df_temp[['isFraud']]\n",
    "X = df_temp.drop(columns=['isFraud'], axis=1)\n",
    "\n",
    "X.columns"
   ]
  },
  {
   "cell_type": "markdown",
   "metadata": {},
   "source": [
    "### Re-sampling"
   ]
  },
  {
   "cell_type": "markdown",
   "metadata": {},
   "source": [
    "I will now check if the dataset is balanaced. From the plot below it's clear that the dataset is **highly imbalanced**."
   ]
  },
  {
   "cell_type": "code",
   "execution_count": 124,
   "metadata": {},
   "outputs": [
    {
     "data": {
      "image/png": "[encoded data removed]",
      "text/plain": [
       "<Figure size 1080x288 with 1 Axes>"
      ]
     },
     "metadata": {},
     "output_type": "display_data"
    }
   ],
   "source": [
    "sns.countplot(x='isFraud', data = df)\n",
    "plt.show()"
   ]
  },
  {
   "cell_type": "markdown",
   "metadata": {},
   "source": [
    "We will now re-sample the dataset to get a balanced data."
   ]
  },
  {
   "cell_type": "code",
   "execution_count": null,
   "metadata": {},
   "outputs": [],
   "source": [
    "X_train, X_test, y_train, y_test = train_test_split(StandardScaler().fit_transform(X), np.array(y), test_size=0.2, random_state=101)\n",
    "\n",
    "# define pipeline\n",
    "over = SMOTE(sampling_strategy=0.1)\n",
    "under = RandomUnderSampler(sampling_strategy=0.5)\n",
    "steps = [('o', over), ('u', under)]\n",
    "pipeline = Pipeline(steps=steps)\n",
    "# transform the dataset\n",
    "#X, y = pipeline.fit_resample(X, y)\n",
    "X_train, y_train = pipeline.fit_resample(X_train, y_train)"
   ]
  },
  {
   "cell_type": "code",
   "execution_count": null,
   "metadata": {},
   "outputs": [],
   "source": [
    "X_train\n",
    "\n",
    "# #print(X.shape, y.shape)\n",
    "# sns.countplot(x='isFraud', data = X_train.join(y_train))"
   ]
  },
  {
   "cell_type": "markdown",
   "metadata": {},
   "source": [
    "### Logistic Regression"
   ]
  },
  {
   "cell_type": "code",
   "execution_count": null,
   "metadata": {
    "scrolled": true
   },
   "outputs": [],
   "source": [
    "start = time.time()\n",
    "clf = LogisticRegression(penalty='l1', solver='liblinear',\n",
    "                                      tol=1e-6, max_iter=100000,\n",
    "                                      warm_start=True,\n",
    "                                      intercept_scaling=10000.)\n",
    "\n",
    "clf = LogisticRegression()\n",
    "clf.fit(X_train,y_train)\n",
    "print(\"Intercept: \" , clf.intercept_)\n",
    "print(\"Coefficients: \" , clf.coef_)\n",
    "predict = clf.predict(X_test)\n",
    "print(time.time() - start)\n",
    "\n",
    "roc_auc_score(y_test, predict)"
   ]
  },
  {
   "cell_type": "code",
   "execution_count": null,
   "metadata": {},
   "outputs": [],
   "source": [
    "skplt.metrics.plot_confusion_matrix(y_test, predict)"
   ]
  },
  {
   "cell_type": "code",
   "execution_count": null,
   "metadata": {},
   "outputs": [],
   "source": [
    "print(accuracy_score(y_test, predict))"
   ]
  },
  {
   "cell_type": "markdown",
   "metadata": {},
   "source": [
    "### ROC Curve"
   ]
  },
  {
   "cell_type": "code",
   "execution_count": null,
   "metadata": {},
   "outputs": [],
   "source": [
    "# plot_roc_curve(clf, X_test, y_test)  # doctest: +SKIP\n",
    "# plt.show() \n",
    "\n",
    "frp,trp, threshold = roc_curve(y_test, predict)\n",
    "roc_auc_ = auc(frp,trp)\n",
    "\n",
    "plt.figure(figsize=(14,8))\n",
    "plt.title('Reciever Operating Characteristics')\n",
    "plt.plot(frp,trp,'r',label = 'AUC = %0.2f' % roc_auc_)\n",
    "plt.legend(loc='lower right')\n",
    "plt.plot([0,1],[0,1],'b--')\n",
    "plt.ylabel('True positive rate')\n",
    "plt.xlabel('False positive rate')"
   ]
  }
 ],
 "metadata": {
  "kernelspec": {
   "display_name": "Python 3",
   "language": "python",
   "name": "python3"
  },
  "language_info": {
   "codemirror_mode": {
    "name": "ipython",
    "version": 3
   },
   "file_extension": ".py",
   "mimetype": "text/x-python",
   "name": "python",
   "nbconvert_exporter": "python",
   "pygments_lexer": "ipython3",
   "version": "3.7.1"
  }
 },
 "nbformat": 4,
 "nbformat_minor": 2
}
